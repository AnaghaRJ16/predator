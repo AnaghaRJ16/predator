# Import necessary libraries
import pandas as pd
import numpy as np
import matplotlib.pyplot as plt
import seaborn as sns
from sklearn.model_selection import train_test_split
from sklearn.ensemble import RandomForestRegressor, RandomForestClassifier
from sklearn.linear_model import LinearRegression, LogisticRegression
from sklearn.metrics import mean_absolute_error, mean_squared_error, r2_score, classification_report, confusion_matrix
import xgboost as xgb

# Load the dataset
file_path = "Construction_Projects_Real_Data.xlsx"  # Update this to your file path
data = pd.read_excel(file_path)

# Preview the dataset
print("Dataset Head:")
print(data.head())

# --- Preprocessing ---
# Handle missing values (fill NaNs with the median for numeric columns or mode for categorical)
data.fillna(data.median(numeric_only=True), inplace=True)
for col in data.select_dtypes(include=['object']).columns:
    data[col].fillna(data[col].mode()[0], inplace=True)

# Encode categorical variables using one-hot encoding
categorical_cols = data.select_dtypes(include=['object']).columns
data = pd.get_dummies(data, columns=categorical_cols, drop_first=True)

# Normalize numeric columns (if needed)
numeric_cols = data.select_dtypes(include=['float64', 'int64']).columns
data[numeric_cols] = (data[numeric_cols] - data[numeric_cols].mean()) / data[numeric_cols].std()

# --- Feature and Target Selection ---
# For regression (e.g., predicting Total Budget)
X_reg = data.drop(columns=['Total Budget'])
y_reg = data['Total Budget']

# For classification (e.g., predicting Project Status)
if 'Status' in data.columns:
    X_clf = data.drop(columns=['Status'])
    y_clf = data['Status']

# --- Train-Test Split ---
X_train_reg, X_test_reg, y_train_reg, y_test_reg = train_test_split(X_reg, y_reg, test_size=0.2, random_state=42)
if 'Status' in locals():
    X_train_clf, X_test_clf, y_train_clf, y_test_clf = train_test_split(X_clf, y_clf, test_size=0.2, random_state=42)

# --- Model Training and Evaluation ---
# Regression: Random Forest
print("\nTraining Random Forest Regressor...")
regressor = RandomForestRegressor(random_state=42)
regressor.fit(X_train_reg, y_train_reg)

# Regression Evaluation
y_pred_reg = regressor.predict(X_test_reg)
print("\nRegression Metrics:")
print(f"MAE: {mean_absolute_error(y_test_reg, y_pred_reg):.2f}")
print(f"RMSE: {np.sqrt(mean_squared_error(y_test_reg, y_pred_reg)):.2f}")
print(f"R² Score: {r2_score(y_test_reg, y_pred_reg):.2f}")

# Classification: Random Forest
if 'Status' in locals():
    print("\nTraining Random Forest Classifier...")
    classifier = RandomForestClassifier(random_state=42)
    classifier.fit(X_train_clf, y_train_clf)

    # Classification Evaluation
    y_pred_clf = classifier.predict(X_test_clf)
    print("\nClassification Metrics:")
    print(classification_report(y_test_clf, y_pred_clf))

    # Confusion Matrix
    cm = confusion_matrix(y_test_clf, y_pred_clf)
    sns.heatmap(cm, annot=True, fmt='d', cmap='Blues')
    plt.title("Confusion Matrix")
    plt.xlabel("Predicted")
    plt.ylabel("Actual")
    plt.show()

# --- Visualization ---
# Feature Importance for Regression
importance = regressor.feature_importances_
features = X_reg.columns
sorted_idx = np.argsort(importance)[::-1][:10]

plt.figure(figsize=(10, 6))
plt.barh(features[sorted_idx], importance[sorted_idx], color='skyblue')
plt.xlabel("Feature Importance")
plt.title("Top 10 Features for Total Budget Prediction")
plt.show()

# Prediction vs Actual for Regression
plt.figure(figsize=(10, 6))
plt.scatter(y_test_reg, y_pred_reg, alpha=0.7)
plt.plot([y_test_reg.min(), y_test_reg.max()], [y_test_reg.min(), y_test_reg.max()], color='red', linestyle='--')
plt.xlabel("Actual")
plt.ylabel("Predicted")
plt.title("Actual vs Predicted (Regression)")
plt.show()
